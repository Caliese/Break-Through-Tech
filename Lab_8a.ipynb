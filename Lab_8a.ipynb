{
  "nbformat": 4,
  "nbformat_minor": 0,
  "metadata": {
    "colab": {
      "provenance": []
    },
    "kernelspec": {
      "name": "python3",
      "display_name": "Python 3"
    },
    "language_info": {
      "name": "python"
    }
  },
  "cells": [
    {
      "cell_type": "code",
      "execution_count": null,
      "metadata": {
        "id": "GAFfEBHIBSlz"
      },
      "outputs": [],
      "source": [
        "import pandas as pd\n",
        "import numpy as np\n",
        "import os\n",
        "import matplotlib.pyplot as plt\n",
        "import seaborn as sns\n",
        "from sklearn.preprocessing import StandardScaler\n",
        "from sklearn.model_selection import train_test_split\n",
        "from sklearn.metrics import classification_report, confusion_matrix\n",
        "from sklearn.ensemble import RandomForestClassifier"
      ]
    },
    {
      "cell_type": "code",
      "source": [
        "adultDataSet_filename = os.path.join(os.getcwd(), \"data\", \"censusData.csv\")\n",
        "df = pd.read_csv(adultDataSet_filename)\n",
        "\n",
        "df.head()\n",
        "df.info()\n",
        "df.describe(include='all')"
      ],
      "metadata": {
        "id": "bM2XrxKjB1T0"
      },
      "execution_count": null,
      "outputs": []
    },
    {
      "cell_type": "code",
      "source": [
        "# Check for missing values\n",
        "df.isnull().sum()\n",
        "\n",
        "df.dropna(inplace=True)\n",
        "df.head()\n",
        "\n",
        "# Boxplot to detect outliers\n",
        "sns.boxplot(x=df[\"hours-per-week\"], y=df[\"income_binary\"], data = df, orient=\"h\")\n",
        "plt.title(\"Outlier Detection: Hours per Week\")\n",
        "plt.show()\n",
        "\n",
        "# Cap extreme values (optional depending on distribution)\n",
        "df['hours-per-week'] = np.where(df['hours-per-week'] > 80, 80, df['hours-per-week'])"
      ],
      "metadata": {
        "id": "luDgDa6cCBE_"
      },
      "execution_count": null,
      "outputs": []
    },
    {
      "cell_type": "code",
      "source": [
        "categorical_cols = ['workclass', 'education', 'marital-status', 'occupation',\n",
        "                    'relationship', 'race', 'sex_selfID', 'native-country']\n",
        "\n",
        "print(df.columns.tolist())\n",
        "\n",
        "numeric_cols = ['age', 'fnlwgt', 'education-num', 'capital-gain', 'capital-loss', 'hours-per-week']\n",
        "categorical_cols = [col for col in df.columns if col.startswith(('workclass_', 'education_', 'marital-status_','occupation_', 'relationship_', 'race_',\n",
        "                                                                 'native-country_', 'sex_selfID'))]\n",
        "model_features = numeric_cols + categorical_cols\n",
        "\n",
        "X = df[model_features]\n",
        "y = df['income_binary']"
      ],
      "metadata": {
        "id": "MavduKKwCFMh"
      },
      "execution_count": null,
      "outputs": []
    },
    {
      "cell_type": "code",
      "source": [
        "from sklearn.model_selection import train_test_split\n",
        "\n",
        "X_train, X_test, y_train, y_test = train_test_split(X, y, test_size=0.2, random_state=42)\n",
        "\n",
        "from sklearn.linear_model import LogisticRegression\n",
        "\n",
        "model = LogisticRegression(max_iter=1000)\n",
        "model.fit(X_train, y_train)"
      ],
      "metadata": {
        "id": "ZpeikZ3ZCJSK"
      },
      "execution_count": null,
      "outputs": []
    },
    {
      "cell_type": "code",
      "source": [
        "from sklearn.metrics import classification_report, roc_auc_score\n",
        "\n",
        "y_pred = model.predict(X_test)\n",
        "print(classification_report(y_test, y_pred))\n",
        "print(\"ROC AUC:\", roc_auc_score(y_test, model.predict_proba(X_test)[:,1]))\n"
      ],
      "metadata": {
        "id": "4gOKobFiCO_G"
      },
      "execution_count": null,
      "outputs": []
    }
  ]
}